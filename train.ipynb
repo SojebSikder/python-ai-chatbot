{
 "cells": [
  {
   "cell_type": "code",
   "execution_count": 2,
   "metadata": {},
   "outputs": [
    {
     "name": "stderr",
     "output_type": "stream",
     "text": [
      "c:\\Users\\sojebsikder\\sojebsikder\\project\\python\\playground\\.venv\\Lib\\site-packages\\tqdm\\auto.py:21: TqdmWarning: IProgress not found. Please update jupyter and ipywidgets. See https://ipywidgets.readthedocs.io/en/stable/user_install.html\n",
      "  from .autonotebook import tqdm as notebook_tqdm\n"
     ]
    },
    {
     "name": "stdout",
     "output_type": "stream",
     "text": [
      "Processed 759 text chunks. Embeddings stored successfully!\n"
     ]
    }
   ],
   "source": [
    "import json\n",
    "import faiss\n",
    "import numpy as np\n",
    "from pypdf import PdfReader\n",
    "from sentence_transformers import SentenceTransformer\n",
    "\n",
    "# Function to extract text from a PDF using pypdf\n",
    "def extract_text_from_pdf(pdf_path):\n",
    "    reader = PdfReader(pdf_path)\n",
    "    text_chunks = []\n",
    "    \n",
    "    for page in reader.pages:\n",
    "        text = page.extract_text()\n",
    "        if text:\n",
    "            paragraphs = text.split(\"\\n\\n\")  # Split text into paragraphs\n",
    "            text_chunks.extend([p.strip() for p in paragraphs if p.strip()])\n",
    "    \n",
    "    return text_chunks\n",
    "\n",
    "# Load sentence embedding model\n",
    "model = SentenceTransformer(\"sentence-transformers/all-MiniLM-L6-v2\")\n",
    "\n",
    "# Path to the PDF file\n",
    "pdf_path = \"The_GALE_ENCYCLOPEDIA_of_MEDICINE_SECOND.pdf\"\n",
    "\n",
    "# Extract text chunks from the PDF\n",
    "chunks = extract_text_from_pdf(pdf_path)\n",
    "\n",
    "# Generate embeddings for each chunk\n",
    "embeddings = model.encode(chunks, convert_to_numpy=True)\n",
    "\n",
    "# Create FAISS index\n",
    "dimension = embeddings.shape[1]\n",
    "index = faiss.IndexFlatL2(dimension)\n",
    "index.add(embeddings)\n",
    "\n",
    "# Store text chunks with embeddings\n",
    "data = [{\"text\": chunk, \"embedding\": embedding.tolist()} for chunk, embedding in zip(chunks, embeddings)]\n",
    "\n",
    "# Save FAISS index to a file\n",
    "faiss.write_index(index, \"medical_faiss_index.bin\")\n",
    "\n",
    "# Save extracted text and embeddings to a JSONL file\n",
    "with open(\"medical_data.jsonl\", \"w\") as f:\n",
    "    for entry in data:\n",
    "        f.write(json.dumps(entry) + \"\\n\")\n",
    "\n",
    "print(f\"Processed {len(chunks)} text chunks. Embeddings stored successfully!\")\n"
   ]
  },
  {
   "cell_type": "code",
   "execution_count": 1,
   "metadata": {},
   "outputs": [
    {
     "ename": "NameError",
     "evalue": "name 'model' is not defined",
     "output_type": "error",
     "traceback": [
      "\u001b[31m---------------------------------------------------------------------------\u001b[39m",
      "\u001b[31mNameError\u001b[39m                                 Traceback (most recent call last)",
      "\u001b[36mCell\u001b[39m\u001b[36m \u001b[39m\u001b[32mIn[1]\u001b[39m\u001b[32m, line 16\u001b[39m\n\u001b[32m     14\u001b[39m \u001b[38;5;28;01mif\u001b[39;00m user_input.lower() \u001b[38;5;129;01min\u001b[39;00m [\u001b[33m\"\u001b[39m\u001b[33mexit\u001b[39m\u001b[33m\"\u001b[39m, \u001b[33m\"\u001b[39m\u001b[33mquit\u001b[39m\u001b[33m\"\u001b[39m]:\n\u001b[32m     15\u001b[39m     \u001b[38;5;28;01mbreak\u001b[39;00m\n\u001b[32m---> \u001b[39m\u001b[32m16\u001b[39m response = \u001b[43mchatbot\u001b[49m\u001b[43m(\u001b[49m\u001b[43muser_input\u001b[49m\u001b[43m)\u001b[49m\n\u001b[32m     17\u001b[39m \u001b[38;5;28mprint\u001b[39m(\u001b[33m\"\u001b[39m\u001b[33mBot:\u001b[39m\u001b[33m\"\u001b[39m, response)\n",
      "\u001b[36mCell\u001b[39m\u001b[36m \u001b[39m\u001b[32mIn[1]\u001b[39m\u001b[32m, line 3\u001b[39m, in \u001b[36mchatbot\u001b[39m\u001b[34m(query)\u001b[39m\n\u001b[32m      2\u001b[39m \u001b[38;5;28;01mdef\u001b[39;00m\u001b[38;5;250m \u001b[39m\u001b[34mchatbot\u001b[39m(query):\n\u001b[32m----> \u001b[39m\u001b[32m3\u001b[39m     query_embedding = \u001b[43mmodel\u001b[49m.encode([query])\n\u001b[32m      4\u001b[39m     D, I = index.search(query_embedding, k=\u001b[32m1\u001b[39m)  \u001b[38;5;66;03m# Get top-1 match\u001b[39;00m\n\u001b[32m      6\u001b[39m     \u001b[38;5;28;01mif\u001b[39;00m I[\u001b[32m0\u001b[39m][\u001b[32m0\u001b[39m] != -\u001b[32m1\u001b[39m:  \u001b[38;5;66;03m# If a match is found\u001b[39;00m\n",
      "\u001b[31mNameError\u001b[39m: name 'model' is not defined"
     ]
    }
   ],
   "source": [
    "# Chatbot function\n",
    "def chatbot(query):\n",
    "    query_embedding = model.encode([query])\n",
    "    D, I = index.search(query_embedding, k=1)  # Get top-1 match\n",
    "    \n",
    "    if I[0][0] != -1:  # If a match is found\n",
    "        return data[I[0][0]][\"text\"]\n",
    "    else:\n",
    "        return \"I'm sorry, I don't have relevant information on that.\"  \n",
    "\n",
    "# Test chatbot\n",
    "while True:\n",
    "    user_input = input(\"You: \")\n",
    "    if user_input.lower() in [\"exit\", \"quit\"]:\n",
    "        break\n",
    "    response = chatbot(user_input)\n",
    "    print(\"Bot:\", response)\n"
   ]
  }
 ],
 "metadata": {
  "kernelspec": {
   "display_name": ".venv",
   "language": "python",
   "name": "python3"
  },
  "language_info": {
   "codemirror_mode": {
    "name": "ipython",
    "version": 3
   },
   "file_extension": ".py",
   "mimetype": "text/x-python",
   "name": "python",
   "nbconvert_exporter": "python",
   "pygments_lexer": "ipython3",
   "version": "3.11.0"
  }
 },
 "nbformat": 4,
 "nbformat_minor": 2
}
