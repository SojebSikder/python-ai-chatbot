{
 "cells": [
  {
   "cell_type": "code",
   "execution_count": 2,
   "metadata": {},
   "outputs": [
    {
     "name": "stderr",
     "output_type": "stream",
     "text": [
      "c:\\Users\\sojebsikder\\sojebsikder\\project\\python\\playground\\.venv\\Lib\\site-packages\\tqdm\\auto.py:21: TqdmWarning: IProgress not found. Please update jupyter and ipywidgets. See https://ipywidgets.readthedocs.io/en/stable/user_install.html\n",
      "  from .autonotebook import tqdm as notebook_tqdm\n"
     ]
    }
   ],
   "source": [
    "import json\n",
    "import faiss\n",
    "import numpy as np\n",
    "from sentence_transformers import SentenceTransformer\n",
    "\n",
    "# Load dataset\n",
    "data = []\n",
    "questions = []\n",
    "with open(\"dataset.jsonl\", \"r\") as f:\n",
    "    for line in f:\n",
    "        item = json.loads(line)\n",
    "        data.append(item)\n",
    "        questions.append(item[\"question\"])\n",
    "\n",
    "# Load embedding model\n",
    "model = SentenceTransformer(\"sentence-transformers/all-MiniLM-L6-v2\")\n",
    "\n",
    "# Encode questions\n",
    "question_embeddings = model.encode(questions)\n",
    "\n",
    "# Create FAISS index\n",
    "dimension = question_embeddings.shape[1]\n",
    "index = faiss.IndexFlatL2(dimension)\n",
    "index.add(np.array(question_embeddings))\n"
   ]
  },
  {
   "cell_type": "code",
   "execution_count": 1,
   "metadata": {},
   "outputs": [
    {
     "ename": "NameError",
     "evalue": "name 'model' is not defined",
     "output_type": "error",
     "traceback": [
      "\u001b[31m---------------------------------------------------------------------------\u001b[39m",
      "\u001b[31mNameError\u001b[39m                                 Traceback (most recent call last)",
      "\u001b[36mCell\u001b[39m\u001b[36m \u001b[39m\u001b[32mIn[1]\u001b[39m\u001b[32m, line 15\u001b[39m\n\u001b[32m     13\u001b[39m \u001b[38;5;28;01mif\u001b[39;00m user_input.lower() \u001b[38;5;129;01min\u001b[39;00m [\u001b[33m\"\u001b[39m\u001b[33mexit\u001b[39m\u001b[33m\"\u001b[39m, \u001b[33m\"\u001b[39m\u001b[33mquit\u001b[39m\u001b[33m\"\u001b[39m]:\n\u001b[32m     14\u001b[39m     \u001b[38;5;28;01mbreak\u001b[39;00m\n\u001b[32m---> \u001b[39m\u001b[32m15\u001b[39m response = \u001b[43mchatbot\u001b[49m\u001b[43m(\u001b[49m\u001b[43muser_input\u001b[49m\u001b[43m)\u001b[49m\n\u001b[32m     16\u001b[39m \u001b[38;5;28mprint\u001b[39m(\u001b[33m\"\u001b[39m\u001b[33mBot:\u001b[39m\u001b[33m\"\u001b[39m, response)\n",
      "\u001b[36mCell\u001b[39m\u001b[36m \u001b[39m\u001b[32mIn[1]\u001b[39m\u001b[32m, line 2\u001b[39m, in \u001b[36mchatbot\u001b[39m\u001b[34m(query)\u001b[39m\n\u001b[32m      1\u001b[39m \u001b[38;5;28;01mdef\u001b[39;00m\u001b[38;5;250m \u001b[39m\u001b[34mchatbot\u001b[39m(query):\n\u001b[32m----> \u001b[39m\u001b[32m2\u001b[39m     query_embedding = \u001b[43mmodel\u001b[49m.encode([query])\n\u001b[32m      3\u001b[39m     D, I = index.search(query_embedding, k=\u001b[32m1\u001b[39m)  \u001b[38;5;66;03m# Get top-1 match\u001b[39;00m\n\u001b[32m      5\u001b[39m     \u001b[38;5;28;01mif\u001b[39;00m I[\u001b[32m0\u001b[39m][\u001b[32m0\u001b[39m] != -\u001b[32m1\u001b[39m:  \u001b[38;5;66;03m# If a match is found\u001b[39;00m\n",
      "\u001b[31mNameError\u001b[39m: name 'model' is not defined"
     ]
    }
   ],
   "source": [
    "def chatbot(query):\n",
    "    query_embedding = model.encode([query])\n",
    "    D, I = index.search(query_embedding, k=1)  # Get top-1 match\n",
    "\n",
    "    if I[0][0] != -1:  # If a match is found\n",
    "        return data[I[0][0]][\"answer\"]\n",
    "    else:\n",
    "        return \"I'm sorry, I don't understand that.\"\n",
    "\n",
    "# Test chatbot\n",
    "while True:\n",
    "    user_input = input(\"You: \")\n",
    "    if user_input.lower() in [\"exit\", \"quit\"]:\n",
    "        break\n",
    "    response = chatbot(user_input)\n",
    "    print(\"Bot:\", response)\n"
   ]
  }
 ],
 "metadata": {
  "kernelspec": {
   "display_name": ".venv",
   "language": "python",
   "name": "python3"
  },
  "language_info": {
   "codemirror_mode": {
    "name": "ipython",
    "version": 3
   },
   "file_extension": ".py",
   "mimetype": "text/x-python",
   "name": "python",
   "nbconvert_exporter": "python",
   "pygments_lexer": "ipython3",
   "version": "3.11.0"
  }
 },
 "nbformat": 4,
 "nbformat_minor": 2
}
